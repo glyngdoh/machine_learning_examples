{
  "nbformat": 4,
  "nbformat_minor": 0,
  "metadata": {
    "colab": {
      "name": "image_classification_0.ipynb",
      "provenance": [],
      "collapsed_sections": [],
      "mount_file_id": "1fJNZLDkk_gb73PuB52L8I4ABBe24poAM",
      "authorship_tag": "ABX9TyPgoVKHq3NNxzs8e+b9vt1/",
      "include_colab_link": true
    },
    "kernelspec": {
      "name": "python3",
      "display_name": "Python 3"
    }
  },
  "cells": [
    {
      "cell_type": "markdown",
      "metadata": {
        "id": "view-in-github",
        "colab_type": "text"
      },
      "source": [
        "<a href=\"https://colab.research.google.com/github/glyngdoh/machine_learning_examples/blob/master/image_classification.ipynb\" target=\"_parent\"><img src=\"https://colab.research.google.com/assets/colab-badge.svg\" alt=\"Open In Colab\"/></a>"
      ]
    },
    {
      "cell_type": "markdown",
      "metadata": {
        "id": "e0jDMbCw6u5U",
        "colab_type": "text"
      },
      "source": [
        "# Description: This program classifies images"
      ]
    },
    {
      "cell_type": "code",
      "metadata": {
        "id": "ZXDEzdmn51Q8",
        "colab_type": "code",
        "colab": {}
      },
      "source": [
        "# import the libraries\n",
        "import tensorflow as tf\n",
        "from tensorflow import keras\n",
        "from keras.models import  Sequential\n",
        "from keras.layers import Dense, Flatten, Conv2D, MaxPooling2D, Dropout\n",
        "from tensorflow.keras import layers\n",
        "from keras.utils import to_categorical\n",
        "import numpy as np\n",
        "import matplotlib.pyplot as plt\n",
        "plt.style.use('fivethirtyeight')"
      ],
      "execution_count": 2,
      "outputs": []
    },
    {
      "cell_type": "code",
      "metadata": {
        "id": "ixdhdCD_7CXW",
        "colab_type": "code",
        "colab": {
          "base_uri": "https://localhost:8080/",
          "height": 51
        },
        "outputId": "0bbf5909-7558-4765-ed6b-e9abf8937174"
      },
      "source": [
        "# load the data\n",
        "from keras.datasets import cifar10\n",
        "(x_train, y_train), (x_test, y_test) = cifar10.load_data()"
      ],
      "execution_count": 3,
      "outputs": [
        {
          "output_type": "stream",
          "text": [
            "Downloading data from https://www.cs.toronto.edu/~kriz/cifar-10-python.tar.gz\n",
            "170500096/170498071 [==============================] - 2s 0us/step\n"
          ],
          "name": "stdout"
        }
      ]
    },
    {
      "cell_type": "code",
      "metadata": {
        "id": "RXdjPxfJ7UQy",
        "colab_type": "code",
        "colab": {
          "base_uri": "https://localhost:8080/",
          "height": 85
        },
        "outputId": "b7f1adc5-1cbd-41bf-bd2b-f798a85e6abe"
      },
      "source": [
        "# look at the data types of the variables\n",
        "print(type(x_train))\n",
        "print(type(y_train))\n",
        "print(type(x_test))\n",
        "print(type(y_test))"
      ],
      "execution_count": 4,
      "outputs": [
        {
          "output_type": "stream",
          "text": [
            "<class 'numpy.ndarray'>\n",
            "<class 'numpy.ndarray'>\n",
            "<class 'numpy.ndarray'>\n",
            "<class 'numpy.ndarray'>\n"
          ],
          "name": "stdout"
        }
      ]
    },
    {
      "cell_type": "code",
      "metadata": {
        "id": "qxi-oSRw7iI5",
        "colab_type": "code",
        "colab": {
          "base_uri": "https://localhost:8080/",
          "height": 85
        },
        "outputId": "6a029345-31fa-4474-f107-ddc11eb5f747"
      },
      "source": [
        "# get the shape of the arrays\n",
        "print('x_train shape: ', x_train.shape)\n",
        "print('y_train shape: ', y_train.shape)\n",
        "print('x_test shape: ', x_test.shape)\n",
        "print('y_test shape: ', y_test.shape)"
      ],
      "execution_count": 5,
      "outputs": [
        {
          "output_type": "stream",
          "text": [
            "x_train shape:  (50000, 32, 32, 3)\n",
            "y_train shape:  (50000, 1)\n",
            "x_test shape:  (10000, 32, 32, 3)\n",
            "y_test shape:  (10000, 1)\n"
          ],
          "name": "stdout"
        }
      ]
    },
    {
      "cell_type": "code",
      "metadata": {
        "id": "WVA_RD9ruogQ",
        "colab_type": "code",
        "colab": {
          "base_uri": "https://localhost:8080/",
          "height": 284
        },
        "outputId": "e742ae62-f13d-465c-b29f-a231499cf175"
      },
      "source": [
        "# take a look at th efirst image as an array\n",
        "index = 1\n",
        "# shown the image as a picture\n",
        "img = plt.imshow(x_train[index])"
      ],
      "execution_count": 6,
      "outputs": [
        {
          "output_type": "display_data",
          "data": {
            "image/png": "[encoded data removed]",
            "text/plain": [
              "<Figure size 432x288 with 1 Axes>"
            ]
          },
          "metadata": {
            "tags": []
          }
        }
      ]
    },
    {
      "cell_type": "code",
      "metadata": {
        "id": "Y6BgMa5qvEDF",
        "colab_type": "code",
        "colab": {
          "base_uri": "https://localhost:8080/",
          "height": 34
        },
        "outputId": "a91314c2-86b4-4b33-cf60-c08ab7e68499"
      },
      "source": [
        "# get the image label\n",
        "print('The image label is:', y_train[index])"
      ],
      "execution_count": 7,
      "outputs": [
        {
          "output_type": "stream",
          "text": [
            "The image label is: [9]\n"
          ],
          "name": "stdout"
        }
      ]
    },
    {
      "cell_type": "code",
      "metadata": {
        "id": "H5DCaJSbvM0w",
        "colab_type": "code",
        "colab": {
          "base_uri": "https://localhost:8080/",
          "height": 34
        },
        "outputId": "b5da7881-9780-4942-fcd1-637892f5aed3"
      },
      "source": [
        "# get the image classification\n",
        "classification = [\"airplane\", 'automobile', 'bird', 'cat', 'deer', 'dog', 'frog', 'horse', 'ship', 'truck']\n",
        "# print the image class\n",
        "print('The image class is: ', classification[y_train[index][0]])"
      ],
      "execution_count": 8,
      "outputs": [
        {
          "output_type": "stream",
          "text": [
            "The image class is:  truck\n"
          ],
          "name": "stdout"
        }
      ]
    },
    {
      "cell_type": "code",
      "metadata": {
        "id": "tiBn8Q3ZwLpX",
        "colab_type": "code",
        "colab": {}
      },
      "source": [
        "# convert the labels into a set of 10 numbers to input into the neural network\n",
        "y_train_one_hot = to_categorical(y_train)\n",
        "y_test_one_hot = to_categorical(y_test)"
      ],
      "execution_count": 9,
      "outputs": []
    },
    {
      "cell_type": "code",
      "metadata": {
        "id": "yKacb1spw8XT",
        "colab_type": "code",
        "colab": {
          "base_uri": "https://localhost:8080/",
          "height": 136
        },
        "outputId": "f3b6c0ab-b429-4f17-9798-5756fb556fb9"
      },
      "source": [
        "# print the new labels\n",
        "print(y_train_one_hot)"
      ],
      "execution_count": 10,
      "outputs": [
        {
          "output_type": "stream",
          "text": [
            "[[0. 0. 0. ... 0. 0. 0.]\n",
            " [0. 0. 0. ... 0. 0. 1.]\n",
            " [0. 0. 0. ... 0. 0. 1.]\n",
            " ...\n",
            " [0. 0. 0. ... 0. 0. 1.]\n",
            " [0. 1. 0. ... 0. 0. 0.]\n",
            " [0. 1. 0. ... 0. 0. 0.]]\n"
          ],
          "name": "stdout"
        }
      ]
    },
    {
      "cell_type": "code",
      "metadata": {
        "id": "eWRl1CI1xE2L",
        "colab_type": "code",
        "colab": {
          "base_uri": "https://localhost:8080/",
          "height": 34
        },
        "outputId": "6d2a616f-48d6-4125-fee0-dd75d15516b2"
      },
      "source": [
        "# print the new label of the current image above\n",
        "print('The one hot label is ', y_train_one_hot[index])"
      ],
      "execution_count": 11,
      "outputs": [
        {
          "output_type": "stream",
          "text": [
            "The one hot label is  [0. 0. 0. 0. 0. 0. 0. 0. 0. 1.]\n"
          ],
          "name": "stdout"
        }
      ]
    },
    {
      "cell_type": "code",
      "metadata": {
        "id": "McRBncZfxVqu",
        "colab_type": "code",
        "colab": {}
      },
      "source": [
        "# normalize the pixels to be values between 0 and 1\n",
        "x_train = x_train/255\n",
        "x_test = x_test/255"
      ],
      "execution_count": 14,
      "outputs": []
    },
    {
      "cell_type": "code",
      "metadata": {
        "id": "WiSadHG-xiE6",
        "colab_type": "code",
        "colab": {}
      },
      "source": [
        "# create the model architecture\n",
        "model = Sequential()\n",
        "\n",
        "# add the first layer \n",
        "model.add(Conv2D(32, (5,5), activation='relu', input_shape = (32,32,3)))\n",
        "\n",
        "# add a pooling layer\n",
        "model.add(MaxPooling2D(pool_size=(2,2)))\n",
        "\n",
        "# add another convolution layer\n",
        "model.add(Conv2D(32, (5,5), activation='relu'))\n",
        "\n",
        "# add another pooling layer\n",
        "model.add(MaxPooling2D(pool_size=(2,2)))\n",
        "\n",
        "# add a flattening layer\n",
        "model.add(Flatten())\n",
        "\n",
        "# add a layer with 1000 neurons\n",
        "model.add(Dense(1000, activation='relu'))\n",
        "\n",
        "# add a dropout layer\n",
        "model.add(Dropout(0.5))\n",
        "\n",
        "# add a layer with 500 neurons\n",
        "model.add(Dense(500, activation='relu'))\n",
        "\n",
        "# add a dropout layer\n",
        "model.add(Dropout(0.5))\n",
        "\n",
        "# add a layer with 250 neurons\n",
        "model.add(Dense(250, activation='relu'))\n",
        "\n",
        "# add a layer with 250 neurons\n",
        "model.add(Dense(10, activation='softmax'))"
      ],
      "execution_count": 13,
      "outputs": []
    },
    {
      "cell_type": "code",
      "metadata": {
        "id": "jGBtDr1GxgVL",
        "colab_type": "code",
        "colab": {}
      },
      "source": [
        "# compile the model\n",
        "model.compile(loss='categorical_crossentropy',\n",
        "              optimizer = 'adam',\n",
        "              metrics = ['accuracy'])"
      ],
      "execution_count": 15,
      "outputs": []
    },
    {
      "cell_type": "code",
      "metadata": {
        "id": "BvUOZQTizk0M",
        "colab_type": "code",
        "colab": {
          "base_uri": "https://localhost:8080/",
          "height": 697
        },
        "outputId": "b01fc8f8-bb3d-4e40-9bb2-09e5cf8076bb"
      },
      "source": [
        "# train the model\n",
        "hist = model.fit(x_train,y_train_one_hot,\n",
        "                 batch_size = 256,\n",
        "                 epochs = 20,\n",
        "                 validation_split = 0.2)"
      ],
      "execution_count": 16,
      "outputs": [
        {
          "output_type": "stream",
          "text": [
            "Epoch 1/20\n",
            "157/157 [==============================] - 55s 347ms/step - loss: 2.2347 - accuracy: 0.1423 - val_loss: 2.0729 - val_accuracy: 0.2263\n",
            "Epoch 2/20\n",
            "157/157 [==============================] - 54s 344ms/step - loss: 2.0375 - accuracy: 0.2424 - val_loss: 1.9761 - val_accuracy: 0.2601\n",
            "Epoch 3/20\n",
            "157/157 [==============================] - 54s 343ms/step - loss: 1.9386 - accuracy: 0.2837 - val_loss: 1.8938 - val_accuracy: 0.3040\n",
            "Epoch 4/20\n",
            "157/157 [==============================] - 54s 344ms/step - loss: 1.8562 - accuracy: 0.3196 - val_loss: 1.8248 - val_accuracy: 0.3317\n",
            "Epoch 5/20\n",
            "157/157 [==============================] - 54s 343ms/step - loss: 1.8068 - accuracy: 0.3374 - val_loss: 1.7659 - val_accuracy: 0.3519\n",
            "Epoch 6/20\n",
            "157/157 [==============================] - 54s 344ms/step - loss: 1.7667 - accuracy: 0.3526 - val_loss: 1.7400 - val_accuracy: 0.3630\n",
            "Epoch 7/20\n",
            "157/157 [==============================] - 54s 344ms/step - loss: 1.7230 - accuracy: 0.3708 - val_loss: 1.6907 - val_accuracy: 0.3854\n",
            "Epoch 8/20\n",
            "157/157 [==============================] - 54s 343ms/step - loss: 1.6881 - accuracy: 0.3830 - val_loss: 1.6529 - val_accuracy: 0.4035\n",
            "Epoch 9/20\n",
            "157/157 [==============================] - 54s 343ms/step - loss: 1.6567 - accuracy: 0.3977 - val_loss: 1.6178 - val_accuracy: 0.4119\n",
            "Epoch 10/20\n",
            "157/157 [==============================] - 54s 343ms/step - loss: 1.6395 - accuracy: 0.4040 - val_loss: 1.6119 - val_accuracy: 0.4118\n",
            "Epoch 11/20\n",
            "157/157 [==============================] - 57s 362ms/step - loss: 1.6131 - accuracy: 0.4120 - val_loss: 1.5976 - val_accuracy: 0.4183\n",
            "Epoch 12/20\n",
            "157/157 [==============================] - 54s 343ms/step - loss: 1.5925 - accuracy: 0.4214 - val_loss: 1.5567 - val_accuracy: 0.4371\n",
            "Epoch 13/20\n",
            "157/157 [==============================] - 54s 342ms/step - loss: 1.5802 - accuracy: 0.4258 - val_loss: 1.5424 - val_accuracy: 0.4391\n",
            "Epoch 14/20\n",
            "157/157 [==============================] - 54s 343ms/step - loss: 1.5588 - accuracy: 0.4371 - val_loss: 1.4971 - val_accuracy: 0.4545\n",
            "Epoch 15/20\n",
            "157/157 [==============================] - 54s 342ms/step - loss: 1.5362 - accuracy: 0.4420 - val_loss: 1.4848 - val_accuracy: 0.4655\n",
            "Epoch 16/20\n",
            "157/157 [==============================] - 54s 343ms/step - loss: 1.5212 - accuracy: 0.4488 - val_loss: 1.4853 - val_accuracy: 0.4647\n",
            "Epoch 17/20\n",
            "157/157 [==============================] - 54s 344ms/step - loss: 1.4999 - accuracy: 0.4565 - val_loss: 1.5142 - val_accuracy: 0.4526\n",
            "Epoch 18/20\n",
            "157/157 [==============================] - 54s 343ms/step - loss: 1.4877 - accuracy: 0.4627 - val_loss: 1.4727 - val_accuracy: 0.4690\n",
            "Epoch 19/20\n",
            "157/157 [==============================] - 54s 343ms/step - loss: 1.4716 - accuracy: 0.4677 - val_loss: 1.4261 - val_accuracy: 0.4879\n",
            "Epoch 20/20\n",
            "157/157 [==============================] - 54s 344ms/step - loss: 1.4610 - accuracy: 0.4723 - val_loss: 1.4357 - val_accuracy: 0.4836\n"
          ],
          "name": "stdout"
        }
      ]
    },
    {
      "cell_type": "code",
      "metadata": {
        "id": "sRS1eMWi5D2m",
        "colab_type": "code",
        "colab": {
          "base_uri": "https://localhost:8080/",
          "height": 51
        },
        "outputId": "0a0aff0b-5da7-4416-b50a-b120a728b4a9"
      },
      "source": [
        "# evaluate the model using the test data set\n",
        "model.evaluate(x_test, y_test_one_hot)[1]"
      ],
      "execution_count": 17,
      "outputs": [
        {
          "output_type": "stream",
          "text": [
            "313/313 [==============================] - 5s 16ms/step - loss: 1.4190 - accuracy: 0.4890\n"
          ],
          "name": "stdout"
        },
        {
          "output_type": "execute_result",
          "data": {
            "text/plain": [
              "0.48899999260902405"
            ]
          },
          "metadata": {
            "tags": []
          },
          "execution_count": 17
        }
      ]
    },
    {
      "cell_type": "code",
      "metadata": {
        "id": "fqFlqkwM5ThX",
        "colab_type": "code",
        "colab": {
          "base_uri": "https://localhost:8080/",
          "height": 325
        },
        "outputId": "05d36207-76fe-4c19-fc2a-e6416e9e36d4"
      },
      "source": [
        "# visualize the model accuracy\n",
        "plt.plot(hist.history['accuracy'])\n",
        "plt.plot(hist.history['val_accuracy'])\n",
        "plt.title('Model Accuracy')\n",
        "plt.ylabel('Accuracy')\n",
        "plt.xlabel('Epoch')\n",
        "plt.legend(['Train', 'Val'], loc='upper right')\n",
        "plt.show()"
      ],
      "execution_count": 18,
      "outputs": [
        {
          "output_type": "display_data",
          "data": {
            "image/png": "[encoded data removed]",
            "text/plain": [
              "<Figure size 432x288 with 1 Axes>"
            ]
          },
          "metadata": {
            "tags": []
          }
        }
      ]
    }
  ]
}