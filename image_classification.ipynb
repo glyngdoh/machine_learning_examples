{
  "nbformat": 4,
  "nbformat_minor": 0,
  "metadata": {
    "colab": {
      "name": "image_classification_0.ipynb",
      "provenance": [],
      "collapsed_sections": [],
      "mount_file_id": "1fJNZLDkk_gb73PuB52L8I4ABBe24poAM",
      "authorship_tag": "ABX9TyPG1cklb7UZWR9D/osc/8v/",
      "include_colab_link": true
    },
    "kernelspec": {
      "name": "python3",
      "display_name": "Python 3"
    }
  },
  "cells": [
    {
      "cell_type": "markdown",
      "metadata": {
        "id": "view-in-github",
        "colab_type": "text"
      },
      "source": [
        "<a href=\"https://colab.research.google.com/github/glyngdoh/machine_learning_examples/blob/master/image_classification.ipynb\" target=\"_parent\"><img src=\"https://colab.research.google.com/assets/colab-badge.svg\" alt=\"Open In Colab\"/></a>"
      ]
    },
    {
      "cell_type": "markdown",
      "metadata": {
        "id": "e0jDMbCw6u5U",
        "colab_type": "text"
      },
      "source": [
        "# Description: This program classifies images"
      ]
    },
    {
      "cell_type": "code",
      "metadata": {
        "id": "ZXDEzdmn51Q8",
        "colab_type": "code",
        "colab": {}
      },
      "source": [
        "# import the libraries\n",
        "import tensorflow as tf\n",
        "from tensorflow import keras\n",
        "from keras.models import  Sequential\n",
        "from keras.layers import Dense, Flatten, Conv2D, MaxPooling2D, Dropout\n",
        "from tensorflow.keras import layers\n",
        "from keras.utils import to_categorical\n",
        "import numpy as np\n",
        "import matplotlib.pyplot as plt\n",
        "plt.style.use('fivethirtyeight')"
      ],
      "execution_count": 2,
      "outputs": []
    },
    {
      "cell_type": "code",
      "metadata": {
        "id": "ixdhdCD_7CXW",
        "colab_type": "code",
        "colab": {
          "base_uri": "https://localhost:8080/",
          "height": 51
        },
        "outputId": "1f6f331b-b820-4f3a-9399-deb6009591ef"
      },
      "source": [
        "# load the data\n",
        "from keras.datasets import cifar10\n",
        "(x_train, y_train), (x_test, y_test) = cifar10.load_data()"
      ],
      "execution_count": 3,
      "outputs": [
        {
          "output_type": "stream",
          "text": [
            "Downloading data from https://www.cs.toronto.edu/~kriz/cifar-10-python.tar.gz\n",
            "170500096/170498071 [==============================] - 6s 0us/step\n"
          ],
          "name": "stdout"
        }
      ]
    },
    {
      "cell_type": "code",
      "metadata": {
        "id": "RXdjPxfJ7UQy",
        "colab_type": "code",
        "colab": {
          "base_uri": "https://localhost:8080/",
          "height": 85
        },
        "outputId": "9ec2af15-1f9d-433b-b440-c12b97f78a86"
      },
      "source": [
        "# look at the data types of the variables\n",
        "print(type(x_train))\n",
        "print(type(y_train))\n",
        "print(type(x_test))\n",
        "print(type(y_test))"
      ],
      "execution_count": 4,
      "outputs": [
        {
          "output_type": "stream",
          "text": [
            "<class 'numpy.ndarray'>\n",
            "<class 'numpy.ndarray'>\n",
            "<class 'numpy.ndarray'>\n",
            "<class 'numpy.ndarray'>\n"
          ],
          "name": "stdout"
        }
      ]
    },
    {
      "cell_type": "code",
      "metadata": {
        "id": "qxi-oSRw7iI5",
        "colab_type": "code",
        "colab": {
          "base_uri": "https://localhost:8080/",
          "height": 85
        },
        "outputId": "2aa0b142-f3a4-4ea8-bfb3-acc59fda6963"
      },
      "source": [
        "# get the shape of the arrays\n",
        "print('x_train shape: ', x_train.shape)\n",
        "print('y_train shape: ', y_train.shape)\n",
        "print('x_test shape: ', x_test.shape)\n",
        "print('y_test shape: ', y_test.shape)"
      ],
      "execution_count": 5,
      "outputs": [
        {
          "output_type": "stream",
          "text": [
            "x_train shape:  (50000, 32, 32, 3)\n",
            "y_train shape:  (50000, 1)\n",
            "x_test shape:  (10000, 32, 32, 3)\n",
            "y_test shape:  (10000, 1)\n"
          ],
          "name": "stdout"
        }
      ]
    },
    {
      "cell_type": "code",
      "metadata": {
        "id": "WVA_RD9ruogQ",
        "colab_type": "code",
        "colab": {
          "base_uri": "https://localhost:8080/",
          "height": 284
        },
        "outputId": "56bde61e-cc59-4471-b3ab-ca50ba11d74d"
      },
      "source": [
        "# take a look at th efirst image as an array\n",
        "index = 1\n",
        "# shown the image as a picture\n",
        "img = plt.imshow(x_train[index])"
      ],
      "execution_count": 12,
      "outputs": [
        {
          "output_type": "display_data",
          "data": {
            "image/png": "[encoded data removed]",
            "text/plain": [
              "<Figure size 432x288 with 1 Axes>"
            ]
          },
          "metadata": {
            "tags": []
          }
        }
      ]
    },
    {
      "cell_type": "code",
      "metadata": {
        "id": "Y6BgMa5qvEDF",
        "colab_type": "code",
        "colab": {
          "base_uri": "https://localhost:8080/",
          "height": 34
        },
        "outputId": "79811d5d-4203-436c-b07d-697ddbb8ae6c"
      },
      "source": [
        "# get the image label\n",
        "print('The image label is:', y_train[index])"
      ],
      "execution_count": 13,
      "outputs": [
        {
          "output_type": "stream",
          "text": [
            "The image label is: [9]\n"
          ],
          "name": "stdout"
        }
      ]
    },
    {
      "cell_type": "code",
      "metadata": {
        "id": "H5DCaJSbvM0w",
        "colab_type": "code",
        "colab": {
          "base_uri": "https://localhost:8080/",
          "height": 34
        },
        "outputId": "8e19fd2c-807c-4499-d877-c52f3223c32a"
      },
      "source": [
        "# get the image classification\n",
        "classification = [\"airplane\", 'automobile', 'bird', 'cat', 'deer', 'dog', 'frog', 'horse', 'ship', 'truck']\n",
        "# print the image class\n",
        "print('The image class is: ', classification[y_train[index][0]])"
      ],
      "execution_count": 14,
      "outputs": [
        {
          "output_type": "stream",
          "text": [
            "The image class is:  truck\n"
          ],
          "name": "stdout"
        }
      ]
    },
    {
      "cell_type": "code",
      "metadata": {
        "id": "tiBn8Q3ZwLpX",
        "colab_type": "code",
        "colab": {}
      },
      "source": [
        "# convert the labels into a set of 10 numbers to input into the neural network\n",
        "y_train_one_hot = to_categorical(y_train)\n",
        "y_test_one_hot = to_categorical(y_test)"
      ],
      "execution_count": 28,
      "outputs": []
    },
    {
      "cell_type": "code",
      "metadata": {
        "id": "yKacb1spw8XT",
        "colab_type": "code",
        "colab": {
          "base_uri": "https://localhost:8080/",
          "height": 136
        },
        "outputId": "641e7ef6-2307-4730-fee5-5f352b8fbd8d"
      },
      "source": [
        "# print the new labels\n",
        "print(y_train_one_hot)"
      ],
      "execution_count": 29,
      "outputs": [
        {
          "output_type": "stream",
          "text": [
            "[[0. 0. 0. ... 0. 0. 0.]\n",
            " [0. 0. 0. ... 0. 0. 1.]\n",
            " [0. 0. 0. ... 0. 0. 1.]\n",
            " ...\n",
            " [0. 0. 0. ... 0. 0. 1.]\n",
            " [0. 1. 0. ... 0. 0. 0.]\n",
            " [0. 1. 0. ... 0. 0. 0.]]\n"
          ],
          "name": "stdout"
        }
      ]
    },
    {
      "cell_type": "code",
      "metadata": {
        "id": "eWRl1CI1xE2L",
        "colab_type": "code",
        "colab": {
          "base_uri": "https://localhost:8080/",
          "height": 34
        },
        "outputId": "73e04f55-badd-4b8b-ff94-c171449fa292"
      },
      "source": [
        "# print the new label of the current image above\n",
        "print('The one hot label is ', y_train_one_hot[index])"
      ],
      "execution_count": 30,
      "outputs": [
        {
          "output_type": "stream",
          "text": [
            "The one hot label is  [0. 0. 0. 0. 0. 0. 0. 0. 0. 1.]\n"
          ],
          "name": "stdout"
        }
      ]
    },
    {
      "cell_type": "code",
      "metadata": {
        "id": "McRBncZfxVqu",
        "colab_type": "code",
        "colab": {}
      },
      "source": [
        "# normalize the pixels to be values between 0 and 1\n",
        "x_train = x_train/255\n",
        "x_test = x_test/255"
      ],
      "execution_count": 31,
      "outputs": []
    },
    {
      "cell_type": "code",
      "metadata": {
        "id": "WiSadHG-xiE6",
        "colab_type": "code",
        "colab": {}
      },
      "source": [
        "# create the model architecture\n",
        "model = Sequential()\n",
        "\n",
        "# add the first layer \n",
        "model.add(Conv2D(32, (5,5), activation='relu', input_shape = (32,32,3)))\n",
        "\n",
        "# add a pooling layer\n",
        "model.add(MaxPooling2D(pool_size=(2,2)))\n",
        "\n",
        "# add another convolution layer\n",
        "model.add(Conv2D(32, (5,5), activation='relu'))\n",
        "\n",
        "# add another pooling layer\n",
        "model.add(MaxPooling2D(pool_size=(2,2)))\n",
        "\n",
        "# add a flattening layer\n",
        "model.add(Flatten())\n",
        "\n",
        "# add a layer with 1000 neurons\n",
        "model.add(Dense(1000, activation='relu'))\n",
        "\n",
        "# add a dropout layer\n",
        "model.add(Dropout(0.5))\n",
        "\n",
        "# add a layer with 500 neurons\n",
        "model.add(Dense(500, activation='relu'))\n",
        "\n",
        "# add a dropout layer\n",
        "model.add(Dropout(0.5))\n",
        "\n",
        "# add a layer with 250 neurons\n",
        "model.add(Dense(250, activation='relu'))\n",
        "\n",
        "# add a layer with 250 neurons\n",
        "model.add(Dense(10, activation='softmax'))"
      ],
      "execution_count": 33,
      "outputs": []
    },
    {
      "cell_type": "code",
      "metadata": {
        "id": "jGBtDr1GxgVL",
        "colab_type": "code",
        "colab": {}
      },
      "source": [
        "# compile the model\n",
        "model.compile(loss='categorical_crossentropy',\n",
        "              optimizer = 'adam',\n",
        "              metrics = ['accuracy'])"
      ],
      "execution_count": 38,
      "outputs": []
    },
    {
      "cell_type": "code",
      "metadata": {
        "id": "BvUOZQTizk0M",
        "colab_type": "code",
        "colab": {
          "base_uri": "https://localhost:8080/",
          "height": 357
        },
        "outputId": "d875b2ca-6806-42b6-e116-640a01988cea"
      },
      "source": [
        "# train the model\n",
        "hist = model.fit(x_train,y_train_one_hot,\n",
        "                 batch_size = 256,\n",
        "                 epochs = 10,\n",
        "                 validation_split = 0.2)"
      ],
      "execution_count": 39,
      "outputs": [
        {
          "output_type": "stream",
          "text": [
            "Epoch 1/10\n",
            "157/157 [==============================] - 52s 334ms/step - loss: 2.3027 - accuracy: 0.0996 - val_loss: 2.3027 - val_accuracy: 0.0952\n",
            "Epoch 2/10\n",
            "157/157 [==============================] - 52s 332ms/step - loss: 2.3027 - accuracy: 0.1011 - val_loss: 2.3027 - val_accuracy: 0.0952\n",
            "Epoch 3/10\n",
            "157/157 [==============================] - 52s 331ms/step - loss: 2.3026 - accuracy: 0.0999 - val_loss: 2.3027 - val_accuracy: 0.0952\n",
            "Epoch 4/10\n",
            "157/157 [==============================] - 52s 331ms/step - loss: 2.3027 - accuracy: 0.0993 - val_loss: 2.3027 - val_accuracy: 0.0952\n",
            "Epoch 5/10\n",
            "157/157 [==============================] - 52s 332ms/step - loss: 2.3027 - accuracy: 0.1002 - val_loss: 2.3028 - val_accuracy: 0.0952\n",
            "Epoch 6/10\n",
            "157/157 [==============================] - 52s 331ms/step - loss: 2.3027 - accuracy: 0.1007 - val_loss: 2.3027 - val_accuracy: 0.0952\n",
            "Epoch 7/10\n",
            "157/157 [==============================] - 54s 344ms/step - loss: 2.3027 - accuracy: 0.1000 - val_loss: 2.3027 - val_accuracy: 0.0952\n",
            "Epoch 8/10\n",
            "157/157 [==============================] - 52s 331ms/step - loss: 2.3027 - accuracy: 0.1009 - val_loss: 2.3027 - val_accuracy: 0.0952\n",
            "Epoch 9/10\n",
            "157/157 [==============================] - 52s 331ms/step - loss: 2.3026 - accuracy: 0.1005 - val_loss: 2.3027 - val_accuracy: 0.0952\n",
            "Epoch 10/10\n",
            "157/157 [==============================] - 52s 331ms/step - loss: 2.3026 - accuracy: 0.0991 - val_loss: 2.3027 - val_accuracy: 0.0952\n"
          ],
          "name": "stdout"
        }
      ]
    },
    {
      "cell_type": "code",
      "metadata": {
        "id": "sRS1eMWi5D2m",
        "colab_type": "code",
        "colab": {
          "base_uri": "https://localhost:8080/",
          "height": 180
        },
        "outputId": "1e5c22bc-dc4e-4d3b-fd30-0f76def95c27"
      },
      "source": [
        "# evaluate the model using the test data set\n",
        "model.evaluate(x_test, y_test_one_hot)[1]"
      ],
      "execution_count": 1,
      "outputs": [
        {
          "output_type": "error",
          "ename": "NameError",
          "evalue": "ignored",
          "traceback": [
            "\u001b[0;31m---------------------------------------------------------------------------\u001b[0m",
            "\u001b[0;31mNameError\u001b[0m                                 Traceback (most recent call last)",
            "\u001b[0;32m<ipython-input-1-8cf9724ed0d1>\u001b[0m in \u001b[0;36m<module>\u001b[0;34m()\u001b[0m\n\u001b[1;32m      1\u001b[0m \u001b[0;31m# evaluate the model using the test data set\u001b[0m\u001b[0;34m\u001b[0m\u001b[0;34m\u001b[0m\u001b[0;34m\u001b[0m\u001b[0m\n\u001b[0;32m----> 2\u001b[0;31m \u001b[0mmodel\u001b[0m\u001b[0;34m.\u001b[0m\u001b[0mevaluate\u001b[0m\u001b[0;34m(\u001b[0m\u001b[0mx_test\u001b[0m\u001b[0;34m,\u001b[0m \u001b[0my_test_one_hot\u001b[0m\u001b[0;34m)\u001b[0m\u001b[0;34m[\u001b[0m\u001b[0;36m1\u001b[0m\u001b[0;34m]\u001b[0m\u001b[0;34m\u001b[0m\u001b[0;34m\u001b[0m\u001b[0m\n\u001b[0m",
            "\u001b[0;31mNameError\u001b[0m: name 'model' is not defined"
          ]
        }
      ]
    },
    {
      "cell_type": "code",
      "metadata": {
        "id": "fqFlqkwM5ThX",
        "colab_type": "code",
        "colab": {
          "base_uri": "https://localhost:8080/",
          "height": 325
        },
        "outputId": "eecc39c8-0d06-4cc8-c4b4-b360c75a6444"
      },
      "source": [
        "# visualize the model accuracy\n",
        "plt.plot(hist.history['accuracy'])\n",
        "plt.plot(hist.history['val_accuracy'])\n",
        "plt.title('Model Accuracy')\n",
        "plt.ylabel('Accuracy')\n",
        "plt.xlabel('Epoch')\n",
        "plt.legend(['Train', 'Val'], loc='upper right')\n",
        "plt.show()"
      ],
      "execution_count": 37,
      "outputs": [
        {
          "output_type": "display_data",
          "data": {
            "image/png": "[encoded data removed]",
            "text/plain": [
              "<Figure size 432x288 with 1 Axes>"
            ]
          },
          "metadata": {
            "tags": []
          }
        }
      ]
    }
  ]
}